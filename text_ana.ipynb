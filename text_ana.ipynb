{
 "cells": [
  {
   "cell_type": "code",
   "execution_count": 5,
   "metadata": {},
   "outputs": [],
   "source": [
    "import re\n",
    "from sklearn.feature_extraction.text import TfidfVectorizer\n",
    "import jieba\n"
   ]
  },
  {
   "cell_type": "code",
   "execution_count": 54,
   "metadata": {},
   "outputs": [],
   "source": [
    "def load_clean_text(file_path):\n",
    "    with open(file_path, 'r', encoding='utf-8') as file:\n",
    "        lines = file.readlines()\n",
    "    # Remove empty lines and strip whitespace\n",
    "    cleaned_lines = [line.strip() for line in lines if line.strip()]\n",
    "    return cleaned_lines"
   ]
  },
  {
   "cell_type": "code",
   "execution_count": 56,
   "metadata": {},
   "outputs": [],
   "source": [
    "def delete_stopwords(words,stopwords):\n",
    "    real_words = [word for word in jieba.lcut(words) if (word not in stopwords and len(word)>1)]\n",
    "    return real_words"
   ]
  },
  {
   "cell_type": "code",
   "execution_count": 17,
   "metadata": {},
   "outputs": [],
   "source": [
    "file_path = 'news.txt'\n",
    "stop_word_path = 'hit_stopwords.txt'"
   ]
  },
  {
   "cell_type": "code",
   "execution_count": 55,
   "metadata": {},
   "outputs": [],
   "source": [
    "with open(stop_word_path, 'r', encoding='utf-8') as file:\n",
    "        stopwords = set(line.strip() for line in file)"
   ]
  },
  {
   "cell_type": "code",
   "execution_count": 26,
   "metadata": {},
   "outputs": [],
   "source": [
    "def extract_tfidf_keywords(new_list, top_n=100):\n",
    "    vectorizer = TfidfVectorizer(max_features=top_n)\n",
    "    tfidf_matrix = vectorizer.fit_transform(new_list)\n",
    "    scores = zip(vectorizer.get_feature_names_out(), tfidf_matrix.toarray()[0])\n",
    "    tfidf_keywords = sorted(scores, key=lambda x: x[1], reverse=True)[:top_n]\n",
    "    return dict(tfidf_keywords)  "
   ]
  },
  {
   "cell_type": "code",
   "execution_count": 59,
   "metadata": {},
   "outputs": [],
   "source": [
    "# 加载新闻\n",
    "all_words_list = load_clean_text(file_path)\n",
    "all_clean_list = []\n",
    "# 删除停用词，处理文本\n",
    "for words in all_words_list:\n",
    "    clean_words = ' '.join(delete_stopwords(words=words,stopwords=stopwords))\n",
    "    all_clean_list.append(clean_words)"
   ]
  },
  {
   "cell_type": "code",
   "execution_count": 60,
   "metadata": {},
   "outputs": [
    {
     "data": {
      "text/plain": [
       "{'一带': 0.5629463129202873,\n",
       " '一路': 0.5261819536356304,\n",
       " '建设': 0.2920959043133736,\n",
       " '2023': 0.1756791166102863,\n",
       " '人民网': 0.1756791166102863,\n",
       " '取得': 0.1756791166102863,\n",
       " '领域': 0.1756791166102863,\n",
       " '进行': 0.16648802678912206,\n",
       " '重要': 0.16648802678912206,\n",
       " '乌拉圭': 0.1587170710711044,\n",
       " '倡议': 0.1587170710711044,\n",
       " '共建': 0.1587170710711044,\n",
       " '国家': 0.1460479521566868,\n",
       " '合作': 0.12377453269088992,\n",
       " '阿根廷': 0.12377453269088992,\n",
       " '智利': 0.1202965035976366,\n",
       " '10': 0.0,\n",
       " 'cge': 0.0,\n",
       " '上海': 0.0,\n",
       " '不断': 0.0,\n",
       " '中国': 0.0,\n",
       " '代表': 0.0,\n",
       " '企业': 0.0,\n",
       " '供电': 0.0,\n",
       " '先进': 0.0,\n",
       " '光伏': 0.0,\n",
       " '克服': 0.0,\n",
       " '全球': 0.0,\n",
       " '公司': 0.0,\n",
       " '具有': 0.0,\n",
       " '分公司': 0.0,\n",
       " '切昆塔': 0.0,\n",
       " '努力': 0.0,\n",
       " '十年': 0.0,\n",
       " '华为': 0.0,\n",
       " '南极': 0.0,\n",
       " '双方': 0.0,\n",
       " '发展': 0.0,\n",
       " '发电': 0.0,\n",
       " '受访': 0.0,\n",
       " '团队': 0.0,\n",
       " '国家电网': 0.0,\n",
       " '基础设施': 0.0,\n",
       " '大华': 0.0,\n",
       " '天气': 0.0,\n",
       " '实施': 0.0,\n",
       " '实现': 0.0,\n",
       " '客户': 0.0,\n",
       " '工作': 0.0,\n",
       " '带来': 0.0,\n",
       " '年来': 0.0,\n",
       " '年轻人': 0.0,\n",
       " '建设者': 0.0,\n",
       " '当地': 0.0,\n",
       " '感谢': 0.0,\n",
       " '感谢信': 0.0,\n",
       " '技术': 0.0,\n",
       " '持续': 0.0,\n",
       " '接受': 0.0,\n",
       " '推进': 0.0,\n",
       " '提供': 0.0,\n",
       " '支持': 0.0,\n",
       " '新型': 0.0,\n",
       " '方供': 0.0,\n",
       " '方式': 0.0,\n",
       " '方面': 0.0,\n",
       " '暴雨': 0.0,\n",
       " '更大': 0.0,\n",
       " '最大': 0.0,\n",
       " '有力': 0.0,\n",
       " '李厚川': 0.0,\n",
       " '来自': 0.0,\n",
       " '正在': 0.0,\n",
       " '水平': 0.0,\n",
       " '海丰': 0.0,\n",
       " '海拔': 0.0,\n",
       " '清洁': 0.0,\n",
       " '灾害': 0.0,\n",
       " '电力': 0.0,\n",
       " '电建': 0.0,\n",
       " '电站': 0.0,\n",
       " '确保': 0.0,\n",
       " '科技': 0.0,\n",
       " '积极': 0.0,\n",
       " '绿色': 0.0,\n",
       " '胡胡伊省': 0.0,\n",
       " '能力': 0.0,\n",
       " '能源': 0.0,\n",
       " '致力于': 0.0,\n",
       " '表示': 0.0,\n",
       " '观测': 0.0,\n",
       " '计划': 0.0,\n",
       " '记者': 0.0,\n",
       " '设备': 0.0,\n",
       " '贡献': 0.0,\n",
       " '输电': 0.0,\n",
       " '这片': 0.0,\n",
       " '采访': 0.0,\n",
       " '项目': 0.0,\n",
       " '高查瑞': 0.0}"
      ]
     },
     "execution_count": 60,
     "metadata": {},
     "output_type": "execute_result"
    }
   ],
   "source": [
    "extract_tfidf_keywords(all_clean_list)"
   ]
  }
 ],
 "metadata": {
  "kernelspec": {
   "display_name": "guomai",
   "language": "python",
   "name": "python3"
  },
  "language_info": {
   "codemirror_mode": {
    "name": "ipython",
    "version": 3
   },
   "file_extension": ".py",
   "mimetype": "text/x-python",
   "name": "python",
   "nbconvert_exporter": "python",
   "pygments_lexer": "ipython3",
   "version": "3.10.15"
  }
 },
 "nbformat": 4,
 "nbformat_minor": 2
}
